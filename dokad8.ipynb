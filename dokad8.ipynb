{
 "cells": [
  {
   "cell_type": "markdown",
   "metadata": {},
   "source": [
    "1 задание"
   ]
  },
  {
   "cell_type": "code",
   "execution_count": null,
   "metadata": {},
   "outputs": [],
   "source": [
    "#С Decimal можно использовать целые числа, однако смешивать с типом float десятичные дроби неограниченной(!) точности невозможно\n",
    "\n",
    "from decimal import * \n",
    "print(Decimal('3.4')+2)\n",
    "print(Decimal('5.4'))\n",
    "print(Decimal('3.4')+2.1) #будет ошибка"
   ]
  },
  {
   "cell_type": "markdown",
   "metadata": {},
   "source": [
    "2 задание"
   ]
  },
  {
   "cell_type": "code",
   "execution_count": null,
   "metadata": {},
   "outputs": [],
   "source": [
    "#атрибуты и методы fractions\n",
    "from fractions import Fraction\n",
    "a=Fraction(15,9)\n",
    "print(a.numerator, a.denominator) #возвращает числитель и знаменатель дроби соответственно"
   ]
  },
  {
   "cell_type": "code",
   "execution_count": 11,
   "metadata": {},
   "outputs": [
    {
     "name": "stdout",
     "output_type": "stream",
     "text": [
      "1/2\n",
      "7/10\n"
     ]
    }
   ],
   "source": [
    "b = Fraction.from_float(0.5) #принимает число типа float и возвращает обыкновенную дробь\n",
    "print(b)\n",
    "\n",
    "from decimal import *\n",
    "print(Fraction.from_decimal(Decimal('0.7')))"
   ]
  },
  {
   "cell_type": "code",
   "execution_count": 14,
   "metadata": {},
   "outputs": [
    {
     "name": "stdout",
     "output_type": "stream",
     "text": [
      "22/7\n",
      "4\n",
      "5\n",
      "4\n"
     ]
    }
   ],
   "source": [
    "print(Fraction(3.14159265).limit_denominator(10)) #возвращает ближайшее рациональное представление указанного числа \n",
    "\n",
    "print(Fraction(9, 2).__floor__()) #возвращает значение типа int, которое является наибольшим среди всех int <= x\n",
    "\n",
    "print(Fraction(9, 2).__ceil__()) #возвращает значение типа int, которое является наименьшим среди всех int >= x\n",
    "\n",
    "print(Fraction('9/2').__round__()) #округляет до ближайшего четного числа"
   ]
  },
  {
   "cell_type": "markdown",
   "metadata": {},
   "source": [
    "3 задание"
   ]
  },
  {
   "cell_type": "code",
   "execution_count": 19,
   "metadata": {},
   "outputs": [
    {
     "data": {
      "text/plain": [
       "11"
      ]
     },
     "execution_count": 19,
     "metadata": {},
     "output_type": "execute_result"
    }
   ],
   "source": [
    "#random.randrange(a, b, step) – случайное целое число от a до b (не включая b) с шагом step\n",
    "\n",
    "import random\n",
    "random.randrange(5,15,3)"
   ]
  },
  {
   "cell_type": "markdown",
   "metadata": {},
   "source": [
    "4 задание"
   ]
  },
  {
   "cell_type": "code",
   "execution_count": 117,
   "metadata": {},
   "outputs": [
    {
     "name": "stdin",
     "output_type": "stream",
     "text": [
      "Введите цену с точностью до копеек:  256.25\n"
     ]
    },
    {
     "name": "stdout",
     "output_type": "stream",
     "text": [
      "Рубли:  256 \n",
      "Копейки:  25\n"
     ]
    }
   ],
   "source": [
    "a=input('Введите цену с точностью до копеек: ')\n",
    "b=tuple(Decimal(str(a)).as_tuple())\n",
    "x = Decimal((0, b[1][:b[2]], 0))\n",
    "y = Decimal((0, b[1][b[2]:], 0))\n",
    "print ('Рубли: ',x,'\\nКопейки: ',y)"
   ]
  },
  {
   "cell_type": "markdown",
   "metadata": {},
   "source": [
    "5 задание"
   ]
  },
  {
   "cell_type": "code",
   "execution_count": 170,
   "metadata": {},
   "outputs": [
    {
     "data": {
      "text/plain": [
       "10"
      ]
     },
     "execution_count": 170,
     "metadata": {},
     "output_type": "execute_result"
    }
   ],
   "source": [
    "r=range(6,12,2)\n",
    "random.choice(r)"
   ]
  }
 ],
 "metadata": {
  "kernelspec": {
   "display_name": "Python 3",
   "language": "python",
   "name": "python3"
  },
  "language_info": {
   "codemirror_mode": {
    "name": "ipython",
    "version": 3
   },
   "file_extension": ".py",
   "mimetype": "text/x-python",
   "name": "python",
   "nbconvert_exporter": "python",
   "pygments_lexer": "ipython3",
   "version": "3.8.5"
  }
 },
 "nbformat": 4,
 "nbformat_minor": 4
}
