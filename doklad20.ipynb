{
 "cells": [
  {
   "cell_type": "markdown",
   "metadata": {},
   "source": [
    "Задание: Отформатировать числа (321.3, 12345,8974) в (321.3zł, 12345zł,8974zł).zł - Польский злотый"
   ]
  },
  {
   "cell_type": "code",
   "execution_count": 11,
   "metadata": {},
   "outputs": [
    {
     "name": "stdout",
     "output_type": "stream",
     "text": [
      "    Poland:  321,30 zł\n",
      "    Poland: 12345,00 zł\n",
      "    Poland: 8974,00 zł\n"
     ]
    }
   ],
   "source": [
    "import locale\n",
    "ls=(321.3, 12345,8974)\n",
    "for i in ls:\n",
    "    locale.setlocale(locale.LC_ALL, 'pl_PL')\n",
    "    print('{:>10}: {:>10}'.format(\n",
    "        'Poland',\n",
    "        locale.currency(i),\n",
    "        locale.currency(i),\n",
    "        locale.currency(i)\n",
    "    ))"
   ]
  }
 ],
 "metadata": {
  "kernelspec": {
   "display_name": "Python 3",
   "language": "python",
   "name": "python3"
  },
  "language_info": {
   "codemirror_mode": {
    "name": "ipython",
    "version": 3
   },
   "file_extension": ".py",
   "mimetype": "text/x-python",
   "name": "python",
   "nbconvert_exporter": "python",
   "pygments_lexer": "ipython3",
   "version": "3.8.5"
  }
 },
 "nbformat": 4,
 "nbformat_minor": 4
}
