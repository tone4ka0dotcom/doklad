{
 "cells": [
  {
   "cell_type": "markdown",
   "metadata": {},
   "source": [
    "Используя модули os.path и pathlib, создать в текущей рабочей директории папку Path.example, в данной папке создать тектовый файл ExampleTextFile, в котором будет написано Образец данных для записи в файл."
   ]
  },
  {
   "cell_type": "code",
   "execution_count": 9,
   "metadata": {},
   "outputs": [],
   "source": [
    "from pathlib import Path\n",
    "\n",
    "path = Path.cwd() / 'Path.example'\n",
    "path.mkdir()\n",
    "\n",
    "file = Path.cwd() / 'Path.example' / 'ExampleTextFile.txt'\n",
    "\n",
    "with Path.open(file, \"w\") as f:\n",
    "    f.write(\"Образец данных для записи в файл\")"
   ]
  }
 ],
 "metadata": {
  "kernelspec": {
   "display_name": "Python 3",
   "language": "python",
   "name": "python3"
  },
  "language_info": {
   "codemirror_mode": {
    "name": "ipython",
    "version": 3
   },
   "file_extension": ".py",
   "mimetype": "text/x-python",
   "name": "python",
   "nbconvert_exporter": "python",
   "pygments_lexer": "ipython3",
   "version": "3.8.5"
  }
 },
 "nbformat": 4,
 "nbformat_minor": 4
}
