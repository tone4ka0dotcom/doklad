{
 "cells": [
  {
   "cell_type": "code",
   "execution_count": null,
   "metadata": {},
   "outputs": [],
   "source": [
    "#С помощью модуля statistics найдите population variance и population standart deviation от последовательности среднего \n",
    "#арифметического, среднего геометрического и среднего гармонического от 30 случайных чисел\n",
    "\n",
    "import random\n",
    "y=list()\n",
    "for x in range(30):\n",
    "  y.append(random.randint(1,100)) \n",
    "\n",
    "import statistics\n",
    "\n",
    "print(statistics.pvariance(y)) #population variance - сумма квадратов отклонений значений от среднего, деленная на общее количество\n",
    "print(statistics.pstdev(y))    #population standard deviation - квадратный корень из дисперсии популяции\n",
    "\n",
    "print(statistics.mean(y),statistics.geometric_mean(y),statistics.harmonic_mean(y))\n"
   ]
  }
 ],
 "metadata": {
  "kernelspec": {
   "display_name": "Python 3",
   "language": "python",
   "name": "python3"
  },
  "language_info": {
   "codemirror_mode": {
    "name": "ipython",
    "version": 3
   },
   "file_extension": ".py",
   "mimetype": "text/x-python",
   "name": "python",
   "nbconvert_exporter": "python",
   "pygments_lexer": "ipython3",
   "version": "3.8.5"
  }
 },
 "nbformat": 4,
 "nbformat_minor": 4
}
