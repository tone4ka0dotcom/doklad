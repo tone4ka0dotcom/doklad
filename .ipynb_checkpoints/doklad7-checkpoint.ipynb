{
 "cells": [
  {
   "cell_type": "code",
   "execution_count": 8,
   "metadata": {},
   "outputs": [
    {
     "data": {
      "text/plain": [
       "1.5093876589204962"
      ]
     },
     "execution_count": 8,
     "metadata": {},
     "output_type": "execute_result"
    }
   ],
   "source": [
    "import math\n",
    "r=math.log(2)\n",
    "s=r**2*math.pi\n",
    "s"
   ]
  },
  {
   "cell_type": "code",
   "execution_count": 9,
   "metadata": {},
   "outputs": [
    {
     "name": "stdout",
     "output_type": "stream",
     "text": [
      "759.6455555555556\n",
      "27.561668228820178\n",
      "48.766666666666666 33.02534708444936 10.139634405159292\n"
     ]
    }
   ],
   "source": [
    "import random\n",
    "y=list()\n",
    "for x in range(30):\n",
    "  y.append(random.randint(1,100)) \n",
    "\n",
    "import statistics\n",
    "\n",
    "print(statistics.pvariance(y)) #population variance - сумма квадратов отклонений значений от среднего, деленная на общее количество\n",
    "print(statistics.pstdev(y))    #population standard deviation - квадратный корень из дисперсии популяции\n",
    "\n",
    "print(statistics.mean(y),statistics.geometric_mean(y),statistics.harmonic_mean(y))\n"
   ]
  }
 ],
 "metadata": {
  "kernelspec": {
   "display_name": "Python 3",
   "language": "python",
   "name": "python3"
  },
  "language_info": {
   "codemirror_mode": {
    "name": "ipython",
    "version": 3
   },
   "file_extension": ".py",
   "mimetype": "text/x-python",
   "name": "python",
   "nbconvert_exporter": "python",
   "pygments_lexer": "ipython3",
   "version": "3.8.5"
  }
 },
 "nbformat": 4,
 "nbformat_minor": 4
}
