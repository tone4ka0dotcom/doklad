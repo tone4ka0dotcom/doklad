{
 "cells": [
  {
   "cell_type": "markdown",
   "metadata": {},
   "source": [
    "1 задание"
   ]
  },
  {
   "cell_type": "code",
   "execution_count": 2,
   "metadata": {},
   "outputs": [
    {
     "name": "stdout",
     "output_type": "stream",
     "text": [
      "None\n"
     ]
    }
   ],
   "source": [
    "import inspect\n",
    "\n",
    "def module_level_function(arg1, arg2='default', *args, **kwargs):\n",
    "    \"\"\"This function is declared in the module.\"\"\"\n",
    "    local_variable = arg1 * 2\n",
    "    return local_variable\n",
    "\n",
    "\n",
    "class A(object):\n",
    "    \"\"\"The A class.\"\"\"\n",
    "\n",
    "    def __init__(self, name):\n",
    "        self.name = name\n",
    "\n",
    "    def get_name(self):\n",
    "        \"Returns the name of the instance.\"\n",
    "        return self.name\n",
    "\n",
    "\n",
    "instance_of_a = A('sample_instance')\n",
    "\n",
    "\n",
    "class B(A):\n",
    "    \"\"\"This is the B class.\n",
    "    It is derived from A.\n",
    "    \"\"\"\n",
    "\n",
    "    # This method is not part of A.\n",
    "    def do_something(self):\n",
    "        \"\"\"Does some work\"\"\"\n",
    "    #output this comment\n",
    "    def get_name(self):\n",
    "        \"Overrides version from A\"\n",
    "        return 'B(' + self.name + ')'\n",
    "    \n",
    "print(inspect.getcomments(instance_of_a ))"
   ]
  },
  {
   "cell_type": "markdown",
   "metadata": {},
   "source": [
    "2 задание"
   ]
  },
  {
   "cell_type": "code",
   "execution_count": 3,
   "metadata": {},
   "outputs": [
    {
     "data": {
      "text/plain": [
       "False"
      ]
     },
     "execution_count": 3,
     "metadata": {},
     "output_type": "execute_result"
    }
   ],
   "source": [
    "def isabstract(x):\n",
    "    return inspect.isabstract(x)\n",
    "isabstract(int)"
   ]
  }
 ],
 "metadata": {
  "kernelspec": {
   "display_name": "Python 3",
   "language": "python",
   "name": "python3"
  },
  "language_info": {
   "codemirror_mode": {
    "name": "ipython",
    "version": 3
   },
   "file_extension": ".py",
   "mimetype": "text/x-python",
   "name": "python",
   "nbconvert_exporter": "python",
   "pygments_lexer": "ipython3",
   "version": "3.8.5"
  }
 },
 "nbformat": 4,
 "nbformat_minor": 4
}
