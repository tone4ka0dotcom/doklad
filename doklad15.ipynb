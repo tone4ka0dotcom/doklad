{
 "cells": [
  {
   "cell_type": "code",
   "execution_count": 2,
   "metadata": {},
   "outputs": [
    {
     "name": "stdout",
     "output_type": "stream",
     "text": [
      "5\n",
      "24\n"
     ]
    }
   ],
   "source": [
    "import threading\n",
    "\n",
    "def summa(a,b):\n",
    "    print(a+b)\n",
    "\n",
    "def mult(a,b):\n",
    "    print(a*b)\n",
    "\n",
    "x = threading.Thread(target=summa, args=(2, 3,))\n",
    "y = threading.Thread(target=mult, args=(4, 6))\n",
    "x.start()\n",
    "y.start()"
   ]
  }
 ],
 "metadata": {
  "kernelspec": {
   "display_name": "Python 3",
   "language": "python",
   "name": "python3"
  },
  "language_info": {
   "codemirror_mode": {
    "name": "ipython",
    "version": 3
   },
   "file_extension": ".py",
   "mimetype": "text/x-python",
   "name": "python",
   "nbconvert_exporter": "python",
   "pygments_lexer": "ipython3",
   "version": "3.8.5"
  }
 },
 "nbformat": 4,
 "nbformat_minor": 4
}
