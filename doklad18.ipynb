{
 "cells": [
  {
   "cell_type": "markdown",
   "metadata": {},
   "source": [
    "1 задание"
   ]
  },
  {
   "cell_type": "code",
   "execution_count": 20,
   "metadata": {},
   "outputs": [
    {
     "name": "stdout",
     "output_type": "stream",
     "text": [
      "1ef4wc20:z5e\n"
     ]
    }
   ],
   "source": [
    "import random\n",
    "from datetime import datetime\n",
    "symbols='abcdefghigklmnopqrstuvwxyz1234567890'\n",
    "time=str(datetime.now())\n",
    "ls=''.join(symbols+time)\n",
    "new_ls=[random.choice(ls) for i in range(12)]\n",
    "print(''.join(new_ls))"
   ]
  },
  {
   "cell_type": "markdown",
   "metadata": {},
   "source": [
    "2 задание"
   ]
  },
  {
   "cell_type": "code",
   "execution_count": 22,
   "metadata": {},
   "outputs": [
    {
     "name": "stdin",
     "output_type": "stream",
     "text": [
      "Введите адрес:  https://www.youtube.com\n"
     ]
    },
    {
     "name": "stdout",
     "output_type": "stream",
     "text": [
      "GPS 1\n",
      "VISITOR_INFO1_LIVE m-1hbfkY2Rk\n",
      "YSC CjLTyz4HFrY\n",
      "GPS 1\n",
      "VISITOR_INFO1_LIVE m-1hbfkY2Rk\n",
      "YSC CjLTyz4HFrY\n"
     ]
    }
   ],
   "source": [
    "from urllib.request import Request, build_opener, HTTPCookieProcessor, HTTPHandler, HTTPSHandler\n",
    "import http.cookiejar\n",
    "\n",
    "cookies = http.cookiejar.LWPCookieJar()\n",
    "handlers = [\n",
    "    HTTPHandler(),\n",
    "    HTTPSHandler(),\n",
    "    HTTPCookieProcessor(cookies)\n",
    "    ]\n",
    "opener = build_opener(*handlers)\n",
    "\n",
    "def fetch(uri):\n",
    "    req = Request(uri)\n",
    "    return opener.open(req)\n",
    "\n",
    "def dump():\n",
    "    for cookie in cookies:\n",
    "        print(cookie.name, cookie.value)\n",
    "\n",
    "uri = input('Введите адрес: ')\n",
    "res = fetch(uri)\n",
    "dump()\n",
    "\n",
    "res = fetch(uri)\n",
    "dump()\n",
    "\n",
    "# save cookies to disk. you can load them with cookies.load() as well.\n",
    "cookies.save('mycookies.txt')"
   ]
  },
  {
   "cell_type": "code",
   "execution_count": null,
   "metadata": {},
   "outputs": [],
   "source": []
  }
 ],
 "metadata": {
  "kernelspec": {
   "display_name": "Python 3",
   "language": "python",
   "name": "python3"
  },
  "language_info": {
   "codemirror_mode": {
    "name": "ipython",
    "version": 3
   },
   "file_extension": ".py",
   "mimetype": "text/x-python",
   "name": "python",
   "nbconvert_exporter": "python",
   "pygments_lexer": "ipython3",
   "version": "3.8.5"
  }
 },
 "nbformat": 4,
 "nbformat_minor": 4
}
