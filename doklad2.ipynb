{
 "cells": [
  {
   "cell_type": "markdown",
   "metadata": {},
   "source": [
    "1 задание"
   ]
  },
  {
   "cell_type": "code",
   "execution_count": 30,
   "metadata": {},
   "outputs": [
    {
     "name": "stdin",
     "output_type": "stream",
     "text": [
      "Введите любую строку:  njyz\n"
     ]
    },
    {
     "data": {
      "text/plain": [
       "[('n', 1), ('j', 1), ('y', 1), ('z', 1)]"
      ]
     },
     "execution_count": 30,
     "metadata": {},
     "output_type": "execute_result"
    }
   ],
   "source": [
    "import collections as cl\n",
    "a=input('Введите любую строку: ')\n",
    "c=cl.Counter()\n",
    "for i in list(a.strip('')):\n",
    "    c[i]+=1\n",
    "\n",
    "list(filter(lambda x: x[1]==min(c.values()), c.items()))"
   ]
  },
  {
   "cell_type": "markdown",
   "metadata": {},
   "source": [
    "2 задание"
   ]
  },
  {
   "cell_type": "code",
   "execution_count": 2,
   "metadata": {},
   "outputs": [
    {
     "name": "stdout",
     "output_type": "stream",
     "text": [
      "Counter({'м': 2, ' ': 2, 'ы': 1, 'л': 1, 'ю': 1, 'б': 1, 'и': 1, 'к': 1, 'у': 1, 'ш': 1, 'а': 1, 'т': 1, 'ь': 1})\n",
      "Counter({'м': 6, ' ': 6, 'ы': 3, 'л': 3, 'ю': 3, 'б': 3, 'и': 3, 'у': 3, 'ш': 3, 'а': 3, 'т': 3, 'ь': 3, 'к': 1})\n"
     ]
    }
   ],
   "source": [
    "import collections as cl\n",
    "\n",
    "arr = cl.Counter(\"мы любим кушать\")\n",
    "print(arr)\n",
    "for i in arr.keys():\n",
    "    arr[i]*= 3\n",
    "arr[\"к\"] = 1\n",
    "print(arr)"
   ]
  }
 ],
 "metadata": {
  "kernelspec": {
   "display_name": "Python 3",
   "language": "python",
   "name": "python3"
  },
  "language_info": {
   "codemirror_mode": {
    "name": "ipython",
    "version": 3
   },
   "file_extension": ".py",
   "mimetype": "text/x-python",
   "name": "python",
   "nbconvert_exporter": "python",
   "pygments_lexer": "ipython3",
   "version": "3.8.5"
  }
 },
 "nbformat": 4,
 "nbformat_minor": 4
}
