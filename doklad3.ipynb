{
 "cells": [
  {
   "cell_type": "markdown",
   "metadata": {},
   "source": [
    "Задание 1"
   ]
  },
  {
   "cell_type": "code",
   "execution_count": 12,
   "metadata": {},
   "outputs": [
    {
     "data": {
      "text/plain": [
       "[2, 36, 39]"
      ]
     },
     "execution_count": 12,
     "metadata": {},
     "output_type": "execute_result"
    }
   ],
   "source": [
    "import heapq\n",
    "from random import randint\n",
    "a=[randint(0,100) for i in range(10)]\n",
    "heapq.heapify(a)\n",
    "heapq.nsmallest (3, a)"
   ]
  },
  {
   "cell_type": "markdown",
   "metadata": {},
   "source": [
    "Задание 2"
   ]
  },
  {
   "cell_type": "code",
   "execution_count": 26,
   "metadata": {},
   "outputs": [
    {
     "name": "stdout",
     "output_type": "stream",
     "text": [
      "отсортированный list :  [5, 6, 7, 7, 7, 7, 14, 15, 20, 26]\n"
     ]
    },
    {
     "name": "stdin",
     "output_type": "stream",
     "text": [
      "введите некоторое а:  7\n"
     ]
    },
    {
     "name": "stdout",
     "output_type": "stream",
     "text": [
      "позиция а, если вставлять его в список как можно правее  :  7\n",
      "позиция а, если вставлять его в список как можно левее  :  3\n"
     ]
    }
   ],
   "source": [
    "import bisect\n",
    "\n",
    "ls = [randint(0,30) for i in range(10)]\n",
    "ls.sort()\n",
    "\n",
    "print('отсортированный list : ', ls)\n",
    "bisect.insort(ls, 2)\n",
    "a=int(input('введите некоторое а: '))\n",
    "\n",
    "pos = bisect.bisect(ls, a)\n",
    "print('позиция а, если вставлять его в список как можно правее  : ', pos)\n",
    "\n",
    "pos = bisect.bisect_left(ls, a)\n",
    "print('позиция а, если вставлять его в список как можно левее  : ', pos)"
   ]
  },
  {
   "cell_type": "markdown",
   "metadata": {},
   "source": [
    "Задание 3"
   ]
  },
  {
   "cell_type": "code",
   "execution_count": 1,
   "metadata": {},
   "outputs": [
    {
     "name": "stdout",
     "output_type": "stream",
     "text": [
      "первая очередь:  1\n",
      "первая очередь:  4\n",
      "первая очередь:  9\n",
      "вторая очередь:  3\n"
     ]
    }
   ],
   "source": [
    "from random import randint\n",
    "import queue\n",
    "\n",
    "q = queue.PriorityQueue(3)\n",
    "\n",
    "for i in range(3):\n",
    "    q.put(randint(0,10))\n",
    "while not q.empty():\n",
    "    print('первая очередь: ',q.get())\n",
    "\n",
    "q.put(randint(0,10))\n",
    "print('вторая очередь: ',q.get())"
   ]
  }
 ],
 "metadata": {
  "kernelspec": {
   "display_name": "Python 3",
   "language": "python",
   "name": "python3"
  },
  "language_info": {
   "codemirror_mode": {
    "name": "ipython",
    "version": 3
   },
   "file_extension": ".py",
   "mimetype": "text/x-python",
   "name": "python",
   "nbconvert_exporter": "python",
   "pygments_lexer": "ipython3",
   "version": "3.8.5"
  }
 },
 "nbformat": 4,
 "nbformat_minor": 4
}
