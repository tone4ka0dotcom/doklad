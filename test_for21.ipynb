{
 "cells": [
  {
   "cell_type": "code",
   "execution_count": null,
   "metadata": {},
   "outputs": [],
   "source": [
    "import unittest\n",
    "\n",
    "class My_tests(unittest.TestCase):\n",
    "\n",
    "    def test_for_int(self):\n",
    "        self.assertEqual((2000+21),2021)\n",
    "\n",
    "    def test_for_pow(self):\n",
    "        self.assertEqual(int(2.1**2),4)\n",
    "\n",
    "    def test_for_list(self):\n",
    "        self.assertEqual(len(['2','3','f']),3)\n",
    "\n",
    "\n",
    "if __name__ == '__main__':\n",
    "    unittest.main()"
   ]
  }
 ],
 "metadata": {
  "kernelspec": {
   "display_name": "Python 3",
   "language": "python",
   "name": "python3"
  },
  "language_info": {
   "codemirror_mode": {
    "name": "ipython",
    "version": 3
   },
   "file_extension": ".py",
   "mimetype": "text/x-python",
   "name": "python",
   "nbconvert_exporter": "python",
   "pygments_lexer": "ipython3",
   "version": "3.8.5"
  }
 },
 "nbformat": 4,
 "nbformat_minor": 4
}
