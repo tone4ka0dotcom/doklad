{
 "cells": [
  {
   "cell_type": "code",
   "execution_count": 3,
   "metadata": {},
   "outputs": [
    {
     "data": {
      "text/plain": [
       "' лапу '"
      ]
     },
     "execution_count": 3,
     "metadata": {},
     "output_type": "execute_result"
    }
   ],
   "source": [
    "import difflib\n",
    "s1 = u'А роза упала на лапу Азора'\n",
    "s2 = u'Дай, Джим, на счастье лапу мне'\n",
    "sm = difflib.SequenceMatcher(lambda c: c in set(' ,'), s1, s2)\n",
    "m = sm.find_longest_match(0, len(s1), 0, len(s2))\n",
    "s1[m.a:m.b]\n"
   ]
  }
 ],
 "metadata": {
  "kernelspec": {
   "display_name": "Python 3",
   "language": "python",
   "name": "python3"
  },
  "language_info": {
   "codemirror_mode": {
    "name": "ipython",
    "version": 3
   },
   "file_extension": ".py",
   "mimetype": "text/x-python",
   "name": "python",
   "nbconvert_exporter": "python",
   "pygments_lexer": "ipython3",
   "version": "3.8.5"
  }
 },
 "nbformat": 4,
 "nbformat_minor": 4
}
