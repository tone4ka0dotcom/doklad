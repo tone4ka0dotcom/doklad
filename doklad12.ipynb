{
 "cells": [
  {
   "cell_type": "markdown",
   "metadata": {},
   "source": [
    "1 задание"
   ]
  },
  {
   "cell_type": "code",
   "execution_count": 9,
   "metadata": {},
   "outputs": [
    {
     "name": "stdout",
     "output_type": "stream",
     "text": [
      "<class '__main__.My_class'>\n"
     ]
    }
   ],
   "source": [
    "import pickle\n",
    "\n",
    "class My_class():\n",
    "    def my_name():\n",
    "        return print('Tonya and Nikita')\n",
    "\n",
    "with open('MyClassInFile.pickle', 'wb') as f:\n",
    "    pickle.dump(My_class, f)\n",
    "    \n",
    "with open('MyClassInFile.pickle', 'rb') as f:\n",
    "    data_new = pickle.load(f)\n",
    "\n",
    "print(data_new)"
   ]
  },
  {
   "cell_type": "markdown",
   "metadata": {},
   "source": [
    "2 задание С помощью shelve создайте файл \"MyFavoriteMovies\", и запишите в него названия своих любимых фильмов. В качестве ключей используйте имена режисеров"
   ]
  },
  {
   "cell_type": "code",
   "execution_count": 11,
   "metadata": {},
   "outputs": [
    {
     "name": "stdout",
     "output_type": "stream",
     "text": [
      "<shelve.DbfilenameShelf object at 0x00000207D1F52EE0>\n"
     ]
    }
   ],
   "source": [
    "import shelve\n",
    "\n",
    "with shelve.open('OurFavoriteMovies') as f:\n",
    "    f['David Yates'] = 'Garry Potter'\n",
    "    f['Karen Shakhnazarov'] = 'Сourier'"
   ]
  },
  {
   "cell_type": "markdown",
   "metadata": {},
   "source": [
    "3 задание "
   ]
  },
  {
   "cell_type": "code",
   "execution_count": 24,
   "metadata": {},
   "outputs": [
    {
     "data": {
      "text/plain": [
       "[(4, 'Harmony Simmons', 4000, 42),\n",
       " (1, 'John Doe', 5000, 35),\n",
       " (2, 'Marie Paige', 6000, 25),\n",
       " (3, 'Megan Flores', 3000, 29)]"
      ]
     },
     "execution_count": 24,
     "metadata": {},
     "output_type": "execute_result"
    }
   ],
   "source": [
    "import sqlite3\n",
    "\n",
    "conn = sqlite3.connect(\"new_tabl.db\")\n",
    "cursor = conn.cursor()\n",
    "\n",
    "cursor.execute(\"CREATE TABLE albums (name, salary, age)\")\n",
    "tabl = [(\"John Doe\", 5000, 35),(\"Marie Paige\", 6000, 25),(\"Megan Flores\", 3000, 29),(\"Harmony Simmons\", 4000, 42)]\n",
    "cursor.executemany(\"INSERT INTO albums VALUES (?,?,?)\", tabl)\n",
    "conn.commit()\n",
    "\n",
    "rows = list(cursor.execute(\"SELECT rowid, * FROM albums ORDER BY name\"))\n",
    "rows"
   ]
  }
 ],
 "metadata": {
  "kernelspec": {
   "display_name": "Python 3",
   "language": "python",
   "name": "python3"
  },
  "language_info": {
   "codemirror_mode": {
    "name": "ipython",
    "version": 3
   },
   "file_extension": ".py",
   "mimetype": "text/x-python",
   "name": "python",
   "nbconvert_exporter": "python",
   "pygments_lexer": "ipython3",
   "version": "3.8.5"
  }
 },
 "nbformat": 4,
 "nbformat_minor": 4
}
