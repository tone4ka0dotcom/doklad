{
 "cells": [
  {
   "cell_type": "markdown",
   "metadata": {},
   "source": [
    "1 задание"
   ]
  },
  {
   "cell_type": "code",
   "execution_count": 75,
   "metadata": {},
   "outputs": [
    {
     "name": "stdout",
     "output_type": "stream",
     "text": [
      "True\n",
      "b'We are happy!'\n"
     ]
    }
   ],
   "source": [
    "import shutil as sh\n",
    "\n",
    "sh.copyfile(\"last.txt\", \"new.txt\", follow_symlinks = True)\n",
    "with open('last.txt', 'r') as flast, open('new.txt', 'r') as fnew:\n",
    "    print(flast.read()==fnew.read())\n",
    "shutil.make_archive('new_zip', 'zip','C:\\\\Users\\\\user\\\\doklad', 'new.txt')\n",
    "\n",
    "import mmap \n",
    "with open(\"new.txt\", \"r\") as new_file:\n",
    "    with mmap.mmap(new_file.fileno(), length=0, access=mmap.ACCESS_READ) as mmap_obj:\n",
    "        text_mmap = mmap_obj.read()\n",
    "        print(text_mmap)"
   ]
  },
  {
   "cell_type": "markdown",
   "metadata": {},
   "source": []
  }
 ],
 "metadata": {
  "kernelspec": {
   "display_name": "Python 3",
   "language": "python",
   "name": "python3"
  },
  "language_info": {
   "codemirror_mode": {
    "name": "ipython",
    "version": 3
   },
   "file_extension": ".py",
   "mimetype": "text/x-python",
   "name": "python",
   "nbconvert_exporter": "python",
   "pygments_lexer": "ipython3",
   "version": "3.8.5"
  }
 },
 "nbformat": 4,
 "nbformat_minor": 4
}
